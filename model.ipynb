{
 "cells": [
  {
   "cell_type": "code",
   "execution_count": 2,
   "metadata": {},
   "outputs": [],
   "source": [
    "import pandas as pd\n",
    "import scipy"
   ]
  },
  {
   "cell_type": "code",
   "execution_count": 3,
   "metadata": {},
   "outputs": [],
   "source": [
    "from sklearn.model_selection import train_test_split\n",
    "from sklearn.feature_selection import SelectKBest, chi2, mutual_info_classif\n",
    "\n",
    "def preprocess_training(useDoc2Vec = False):\n",
    "    # Most of this is a task in preprocessing appropriately\n",
    "\n",
    "    train_data = pd.read_csv(\"./project_data_files/book_rating_train.csv\")\n",
    "\n",
    "    # These are strings we need to handle with provided files\n",
    "    if (useDoc2Vec):\n",
    "        train_name = pd.read_csv(\"./project_data_files/book_text_features_doc2vec/train_name_doc2vec100.csv\", index_col = False, delimiter = ',', header=None)\n",
    "        train_authors = pd.read_csv(\"./project_data_files/book_text_features_doc2vec/train_authors_doc2vec20.csv\", index_col = False, delimiter = ',', header=None)\n",
    "        train_desc = pd.read_csv(\"./project_data_files/book_text_features_doc2vec/train_desc_doc2vec100.csv\", index_col = False, delimiter = ',', header=None)\n",
    "    else:\n",
    "        train_name = scipy.sparse.load_npz('./project_data_files/book_text_features_countvec/train_name_vec.npz')\n",
    "        train_authors = scipy.sparse.load_npz('./project_data_files/book_text_features_countvec/train_authors_vec.npz')\n",
    "        train_desc = scipy.sparse.load_npz('./project_data_files/book_text_features_countvec/train_desc_vec.npz')\n",
    "\n",
    "        train_name = pd.DataFrame.sparse.from_spmatrix(train_name)\n",
    "        train_authors = pd.DataFrame.sparse.from_spmatrix(train_authors)\n",
    "        train_desc = pd.DataFrame.sparse.from_spmatrix(train_desc)\n",
    "\n",
    "    # Give these all column names which aren't ints\n",
    "    train_name = train_name.set_axis([f\"name-{x}\" for x in train_name.columns], axis=1)\n",
    "    train_authors = train_authors.set_axis([f\"author-{x}\" for x in train_authors.columns], axis=1)\n",
    "    train_desc = train_desc.set_axis([f\"desc-{x}\" for x in train_desc.columns], axis=1)\n",
    "\n",
    "    # Transform categorical values into useful vectors\n",
    "    train_categorical = pd.get_dummies(train_data[['Publisher', 'Language']])\n",
    "\n",
    "    # Merge all the pieces together\n",
    "    combine = pd.concat([train_name, train_authors, train_desc, train_categorical], axis=1)\n",
    "\n",
    "    # Add the remaining attributes\n",
    "    X_train = pd.concat([combine, train_data[['PublishYear', 'PublishMonth', 'PublishDay', 'pagesNumber']]], axis=1)\n",
    "    y_train = train_data['rating_label']\n",
    "\n",
    "    return X_train, y_train\n",
    "\n",
    "X, y = preprocess_training()\n",
    "\n",
    "# Temporarily, we want a validation set as the test set gives us no feedback\n",
    "# When submitting, train on all data\n",
    "X_train, X_val, y_train, y_val = train_test_split(X, y, test_size=0.2)\n",
    "\n"
   ]
  },
  {
   "cell_type": "code",
   "execution_count": 4,
   "metadata": {},
   "outputs": [
    {
     "name": "stderr",
     "output_type": "stream",
     "text": [
      "C:\\Users\\ethhu\\AppData\\Roaming\\Python\\Python311\\site-packages\\sklearn\\utils\\validation.py:768: UserWarning: pandas.DataFrame with sparse columns found.It will be converted to a dense numpy array.\n",
      "  warnings.warn(\n",
      "C:\\Users\\ethhu\\AppData\\Roaming\\Python\\Python311\\site-packages\\sklearn\\utils\\validation.py:768: UserWarning: pandas.DataFrame with sparse columns found.It will be converted to a dense numpy array.\n",
      "  warnings.warn(\n"
     ]
    },
    {
     "name": "stdout",
     "output_type": "stream",
     "text": [
      "GNB Accuracy: 0.5048775200520269 Time: 25.787254333496094\n"
     ]
    },
    {
     "name": "stderr",
     "output_type": "stream",
     "text": [
      "C:\\Users\\ethhu\\AppData\\Roaming\\Python\\Python311\\site-packages\\sklearn\\utils\\validation.py:768: UserWarning: pandas.DataFrame with sparse columns found.It will be converted to a dense numpy array.\n",
      "  warnings.warn(\n",
      "C:\\Users\\ethhu\\AppData\\Roaming\\Python\\Python311\\site-packages\\sklearn\\neural_network\\_multilayer_perceptron.py:693: UserWarning: Training interrupted by user.\n",
      "  warnings.warn(\"Training interrupted by user.\")\n",
      "C:\\Users\\ethhu\\AppData\\Roaming\\Python\\Python311\\site-packages\\sklearn\\utils\\validation.py:768: UserWarning: pandas.DataFrame with sparse columns found.It will be converted to a dense numpy array.\n",
      "  warnings.warn(\n"
     ]
    },
    {
     "name": "stdout",
     "output_type": "stream",
     "text": [
      "MLP Accuracy: 0.5794493821807934 Time: 18.90970754623413\n"
     ]
    },
    {
     "name": "stderr",
     "output_type": "stream",
     "text": [
      "C:\\Users\\ethhu\\AppData\\Roaming\\Python\\Python311\\site-packages\\sklearn\\utils\\validation.py:768: UserWarning: pandas.DataFrame with sparse columns found.It will be converted to a dense numpy array.\n",
      "  warnings.warn(\n"
     ]
    }
   ],
   "source": [
    "from sklearn import ensemble\n",
    "from sklearn.neighbors import KNeighborsClassifier\n",
    "from sklearn.naive_bayes import GaussianNB, MultinomialNB\n",
    "from sklearn.neural_network import MLPClassifier\n",
    "from sklearn.tree import DecisionTreeClassifier\n",
    "from sklearn.metrics import accuracy_score, classification_report\n",
    "from sklearn.svm import SVC, LinearSVC\n",
    "from sklearn.linear_model import LogisticRegression\n",
    "from sklearn.ensemble import BaggingClassifier\n",
    "\n",
    "import time\n",
    "\n",
    "def run_models(X_train, y_train, X_val, y_val):\n",
    "    models = [\n",
    "          GaussianNB(),\n",
    "          MLPClassifier(),\n",
    "          LinearSVC(),\n",
    "          SVC(kernel='poly', degree=3),\n",
    "          DecisionTreeClassifier(),\n",
    "          BaggingClassifier(base_estimator=DecisionTreeClassifier(),n_estimators=10,\\\n",
    "                              max_samples=0.8, max_features=0.8),\n",
    "          KNeighborsClassifier(), # When the n_neighbors parameter is not set in the KNeighborsClassifier() function, its default value is set to 5\n",
    "          LogisticRegression(max_iter = 1000)]\n",
    "    titles = ['GNB',\n",
    "            'MLP',\n",
    "            'LinearSVC',\n",
    "            'Polynomial (3) SVC',\n",
    "            'Decision Tree',\n",
    "            'Random Forest',\n",
    "            'KNN',\n",
    "            'Logistic Regression']\n",
    "\n",
    "    for title, model in zip(titles, models):\n",
    "        model.fit(X_train,y_train)\n",
    "        start = time.time()\n",
    "        acc = model.score(X_val, y_val)\n",
    "        end = time.time()\n",
    "        t = end - start\n",
    "        print(title, \"Accuracy:\",acc, 'Time:', t)\n",
    "\n",
    "run_models(X_train, y_train, X_val, y_val)\n",
    "\n",
    "\n"
   ]
  },
  {
   "cell_type": "code",
   "execution_count": 7,
   "metadata": {},
   "outputs": [],
   "source": [
    "def preprocess_testing(useDoc2Vec = True):\n",
    "    test_data = pd.read_csv(\"./project_data_files/book_rating_test.csv\")\n",
    "\n",
    "    if (useDoc2Vec):\n",
    "        test_name = pd.read_csv(\"./project_data_files/book_text_features_doc2vec/test_name_doc2vec100.csv\", index_col = False, delimiter = ',', header=None)\n",
    "        test_authors = pd.read_csv(\"./project_data_files/book_text_features_doc2vec/test_authors_doc2vec20.csv\", index_col = False, delimiter = ',', header=None)\n",
    "        test_name = pd.read_csv(\"./project_data_files/book_text_features_doc2vec/test_desc_doc2vec100.csv\", index_col = False, delimiter = ',', header=None)\n",
    "    else:\n",
    "        test_name = scipy.sparse.load_npz('./project_data_files/book_text_features_countvec/test_name_vec.npz')\n",
    "        test_authors = scipy.sparse.load_npz('./project_data_files/book_text_features_countvec/test_authors_vec.npz')\n",
    "        test_name = scipy.sparse.load_npz('./project_data_files/book_text_features_countvec/test_desc_vec.npz')"
   ]
  }
 ],
 "metadata": {
  "kernelspec": {
   "display_name": "Python 3",
   "language": "python",
   "name": "python3"
  },
  "language_info": {
   "codemirror_mode": {
    "name": "ipython",
    "version": 3
   },
   "file_extension": ".py",
   "mimetype": "text/x-python",
   "name": "python",
   "nbconvert_exporter": "python",
   "pygments_lexer": "ipython3",
   "version": "3.11.0"
  },
  "orig_nbformat": 4
 },
 "nbformat": 4,
 "nbformat_minor": 2
}
