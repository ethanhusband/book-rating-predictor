{
 "cells": [
  {
   "cell_type": "code",
   "execution_count": 2,
   "metadata": {},
   "outputs": [],
   "source": [
    "import pandas as pd\n",
    "import scipy"
   ]
  },
  {
   "cell_type": "code",
   "execution_count": 3,
   "metadata": {},
   "outputs": [],
   "source": [
    "from sklearn.model_selection import train_test_split\n",
    "\n",
    "def preprocess_training(useDoc2Vec = True):\n",
    "    # Most of this is a task in preprocessing appropriately\n",
    "\n",
    "    train_data = pd.read_csv(\"./project_data_files/book_rating_train.csv\")\n",
    "\n",
    "    # These are strings we need to handle with provided files\n",
    "    if (useDoc2Vec):\n",
    "        train_name = pd.read_csv(\"./project_data_files/book_text_features_doc2vec/train_name_doc2vec100.csv\", index_col = False, delimiter = ',', header=None)\n",
    "        train_authors = pd.read_csv(\"./project_data_files/book_text_features_doc2vec/train_authors_doc2vec20.csv\", index_col = False, delimiter = ',', header=None)\n",
    "        train_desc = pd.read_csv(\"./project_data_files/book_text_features_doc2vec/train_desc_doc2vec100.csv\", index_col = False, delimiter = ',', header=None)\n",
    "    else:\n",
    "        train_name = scipy.sparse.load_npz('./project_data_files/book_text_features_countvec/train_name_vec.npz')\n",
    "        train_authors = scipy.sparse.load_npz('./project_data_files/book_text_features_countvec/train_authors_vec.npz')\n",
    "        train_desc = scipy.sparse.load_npz('./project_data_files/book_text_features_countvec/train_desc_vec.npz')\n",
    "\n",
    "    # Give these all column names which aren't ints\n",
    "    train_name = train_name.set_axis([f\"name-{x}\" for x in train_name.columns], axis=1)\n",
    "    train_authors = train_authors.set_axis([f\"author-{x}\" for x in train_authors.columns], axis=1)\n",
    "    train_desc = train_desc.set_axis([f\"desc-{x}\" for x in train_desc.columns], axis=1)\n",
    "\n",
    "    # Transform categorical values into useful vectors\n",
    "    train_categorical = pd.get_dummies(train_data[['Publisher', 'Language']])\n",
    "\n",
    "    # Merge all the pieces together\n",
    "    combine = pd.concat([train_name, train_authors, train_desc, train_categorical], axis=1)\n",
    "\n",
    "    # Add the remaining attributes\n",
    "    X_train = pd.concat([combine, train_data[['PublishYear', 'PublishMonth', 'PublishDay', 'pagesNumber']]], axis=1)\n",
    "    y_train = train_data['rating_label']\n",
    "\n",
    "    return X_train, y_train\n",
    "\n",
    "X, y = preprocess_training()\n",
    "\n",
    "# Temporarily, we want a validation set as the test set gives us no feedback\n",
    "# When submitting, train on all data\n",
    "X_train, X_val, y_train, y_val = train_test_split(X, y, test_size=0.2)\n",
    "\n"
   ]
  },
  {
   "cell_type": "code",
   "execution_count": 4,
   "metadata": {},
   "outputs": [
    {
     "name": "stdout",
     "output_type": "stream",
     "text": [
      "[LibSVM]"
     ]
    }
   ],
   "source": [
    "from sklearn import ensemble\n",
    "from sklearn.neighbors import KNeighborsClassifier\n",
    "from sklearn.naive_bayes import GaussianNB, MultinomialNB\n",
    "from sklearn.metrics import accuracy_score, classification_report\n",
    "from sklearn.svm import SVC\n",
    "from sklearn.linear_model import LogisticRegression\n",
    "\n",
    "def run_model(X_train, y_train, X_val, y_val):\n",
    "    model = SVC(kernel='poly', degree=3, verbose=1)\n",
    "\n",
    "    model.fit(X_train, y_train)\n",
    "\n",
    "    y_val_predict = model.predict(X_val)\n",
    "    accuracy =  accuracy_score(y_val, y_val_predict)\n",
    "    print(\"Multinomial NB has accuracy:\",  accuracy)\n",
    "\n",
    "run_model(X_train, y_train, X_val, y_val)\n",
    "\n",
    "\n"
   ]
  },
  {
   "cell_type": "code",
   "execution_count": 30,
   "metadata": {},
   "outputs": [],
   "source": [
    "def preprocess_testing(useDoc2Vec = True):\n",
    "    test_data = pd.read_csv(\"./project_data_files/book_rating_test.csv\")\n",
    "\n",
    "    if (useDoc2Vec):\n",
    "        test_name = pd.read_csv(\"./project_data_files/book_text_features_doc2vec/test_name_doc2vec100.csv\", index_col = False, delimiter = ',', header=None)\n",
    "        test_authors = pd.read_csv(\"./project_data_files/book_text_features_doc2vec/test_authors_doc2vec20.csv\", index_col = False, delimiter = ',', header=None)\n",
    "        test_name = pd.read_csv(\"./project_data_files/book_text_features_doc2vec/test_desc_doc2vec100.csv\", index_col = False, delimiter = ',', header=None)\n",
    "    else:\n",
    "        test_name = scipy.sparse.load_npz('./project_data_files/book_text_features_countvec/test_name_vec.npz')\n",
    "        test_authors = scipy.sparse.load_npz('./project_data_files/book_text_features_countvec/test_authors_vec.npz')\n",
    "        test_name = scipy.sparse.load_npz('./project_data_files/book_text_features_countvec/test_desc_vec.npz')"
   ]
  }
 ],
 "metadata": {
  "kernelspec": {
   "display_name": "Python 3",
   "language": "python",
   "name": "python3"
  },
  "language_info": {
   "codemirror_mode": {
    "name": "ipython",
    "version": 3
   },
   "file_extension": ".py",
   "mimetype": "text/x-python",
   "name": "python",
   "nbconvert_exporter": "python",
   "pygments_lexer": "ipython3",
   "version": "3.11.3"
  },
  "orig_nbformat": 4
 },
 "nbformat": 4,
 "nbformat_minor": 2
}
